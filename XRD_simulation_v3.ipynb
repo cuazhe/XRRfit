{
 "cells": [
  {
   "cell_type": "markdown",
   "metadata": {},
   "source": [
    "## Simulate x-ray reflection data"
   ]
  },
  {
   "cell_type": "markdown",
   "metadata": {},
   "source": [
    "##### We firstly plot the reflection intensity r according to $r = \\left[ r_{0, 1} + r_{1, 2} \\exp (-i \\varphi) \\right] (1 - \\Delta + \\Delta^2 - \\Delta^3 + \\cdots )$"
   ]
  },
  {
   "cell_type": "markdown",
   "metadata": {},
   "source": [
    "Suppose we model the $ \\rm SrRuO_3/ SrTiO_3$ system. Mass density of $\\rm SrRuO_3$ is $\\rm 6.2 \\, g/cm^{-3}$. "
   ]
  },
  {
   "cell_type": "markdown",
   "metadata": {},
   "source": [
    "###### Calculate the x-ray scattering length density"
   ]
  },
  {
   "cell_type": "code",
   "execution_count": 13,
   "metadata": {},
   "outputs": [],
   "source": [
    "import cmath\n",
    "import os\n",
    "import pandas as pd\n",
    "import numpy as np\n",
    "import math\n",
    "%run tools.ipynb"
   ]
  },
  {
   "cell_type": "code",
   "execution_count": 14,
   "metadata": {},
   "outputs": [],
   "source": [
    "#Sr_scattering_factor = pd.read_csv(\"../Atomic/sr.txt\", header = None, sep = ' ')\n",
    "Sr_scattering_factor = pd.read_csv(\"sr.txt\", sep = '\\t', index_col= False)\n",
    "Sr_scattering_factor.columns = ['E(ev)', 'f1', 'f2']\n",
    "#Sr_scattering_factor = pd.read_csv(os.path.join(os.path.dirname(os.path.realpath('__file__')), \"/Atomic/sr.txt\"))\n",
    "Ti_scattering_factor = pd.read_csv(\"ti.txt\", sep = '\\t', index_col= False)\n",
    "Ti_scattering_factor.columns = ['E(ev)', 'f1', 'f2']\n",
    "\n",
    "# loading O scattering factor\n",
    "O_scattering_factor = pd.read_csv(\"o.txt\", sep = '\\t', index_col= False)\n",
    "O_scattering_factor.columns = ['E(ev)', 'f1', 'f2']\n",
    "\n",
    "# loading Ru scattering factor\n",
    "Ru_scattering_factor = pd.read_csv(\"ru.txt\", sep = '\\t', index_col= False)\n",
    "Ru_scattering_factor.columns = ['E(ev)', 'f1', 'f2']\n",
    "\n",
    "# loading Si scattering factor\n",
    "Si_scattering_factor = pd.read_csv(\"si.txt\", sep = '\\t', index_col= False)\n",
    "Si_scattering_factor.columns = ['E(ev)', 'f1', 'f2']"
   ]
  },
  {
   "cell_type": "code",
   "execution_count": 15,
   "metadata": {},
   "outputs": [],
   "source": [
    "# We load the scattering factor for the elements into a dictionary. \n",
    "scattering_factor_dict = {}\n",
    "scattering_factor_dict['sr'] = Sr_scattering_factor\n",
    "scattering_factor_dict['ti'] = Ti_scattering_factor\n",
    "scattering_factor_dict['o'] = O_scattering_factor\n",
    "scattering_factor_dict['ru'] = Ru_scattering_factor\n",
    "scattering_factor_dict['si'] = Si_scattering_factor"
   ]
  },
  {
   "cell_type": "code",
   "execution_count": 16,
   "metadata": {},
   "outputs": [],
   "source": [
    "# We load the element mass into the atomic mass dictionary\n",
    "atomic_mass_dict = {}\n",
    "atomic_mass_dict['sr'] = 87.62\n",
    "atomic_mass_dict['ti'] = 47.87\n",
    "atomic_mass_dict['o'] = 16.00\n",
    "atomic_mass_dict['ru'] = 101.07\n",
    "atomic_mass_dict['si'] = 28.09"
   ]
  },
  {
   "cell_type": "code",
   "execution_count": 45,
   "metadata": {},
   "outputs": [],
   "source": [
    "class xrrFit:\n",
    "    def __init__(self, scattering_factor_dict, atomic_mass_dict, layer):\n",
    "        \"\"\"\n",
    "        scattering_factor_dict is the dict for atomic scattering factor\n",
    "        atomic_mass_dict is the dict for atomic mass\n",
    "        self.scattering_factor is a dict that stores the scattering factor of each element.\n",
    "        self.scattering_length is a dict that stores the scattering length of each element. \n",
    "        \n",
    "        layer is the input layered structure, which is a dictionary. For example, SrRuO3/SrTiO3, the input is \n",
    "        {1: [('sr', 1), ('ti', 1), ('o', 3)], 2: [('sr', 1), ('ru', 1), ('o', 3)]}\n",
    "        The 0th layer is always the vacuum. \n",
    "        \n",
    "        \n",
    "        \"\"\"\n",
    "        self.xray_wavelength = 1.54059 * 10 ** (-10) # The unit of the xray_wavelength is m\n",
    "        self.xray_energy = 0 # in the unit of ev.\n",
    "        self.scattering_factor_dict = scattering_factor_dict\n",
    "        self.atomic_mass_dict = atomic_mass_dict\n",
    "        self.scattering_factor = {}\n",
    "        self.scattering_length = {}\n",
    "        self.layer = layer\n",
    "        \n",
    "        \n",
    "    def get_scattering_factor(self, element, element_sf):\n",
    "        \"\"\"\n",
    "        get the atomic scattering factor corresponding to the xray_wavelength\n",
    "        element is a string representing the element. element_sf is a dataframe containing the scattering factor.\n",
    "        I think f1 is dimensionless\n",
    "        \"\"\"\n",
    "        # calculate f1, which is the real part of the atomic scattering factor. We assume that the energy of the x-ray \n",
    "        # is within the range in the element_sf dataframe. Note that the atomic scattering factor is fixed for each\n",
    "        # element.\n",
    "    \n",
    "        # We locate the nearest energy in the column element_sf['E(ev)'] corresponding to the xray_energy \n",
    "        #import bisect\n",
    "    \n",
    "        self.xray_energy = cal_xray_energy(self.xray_wavelength) * 1000 # xray_energy is in the unit of ev. \n",
    "        import bisect\n",
    "        pos = bisect.bisect_left(element_sf['E(ev)'].tolist(), self.xray_energy)\n",
    "        # Use linear extrapolation to get f1 corresponding to the xray_energy\n",
    "        f1 = (element_sf.iloc[pos]['f1'] - element_sf.iloc[pos + 1]['f1']) / \\\n",
    "            (element_sf.iloc[pos]['E(ev)'] - element_sf.iloc[pos + 1]['E(ev)']) * \\\n",
    "            (self.xray_energy - element_sf.iloc[pos]['E(ev)']) + element_sf.iloc[pos]['f1']\n",
    "        self.scattering_factor[element] = f1\n",
    "        return f1 \n",
    "    \n",
    "    def cal_scattering_length(self, element, element_sf):\n",
    "        \"\"\"\n",
    "        element_sf is the dataframe containing the x-ray scattering factor\n",
    "        The program return (b_i in the above equation) has a unit of m. \n",
    "        bi is also element dependent and is not affected by the density.\n",
    "        \"\"\"\n",
    "        planck_const = 6.62 * 10 ** (-34) # The unit of planck constant is (m^2 kg) / s\n",
    "        c = 2.998 * 10 ** 8\n",
    "        e = 1.60 * 10 ** (-19)\n",
    "        epsilon_0 = 8.85 * 10 ** (-12)\n",
    "        me = 9.11 * 10 ** (-31)\n",
    "    \n",
    "        f1 = self.scattering_factor[element]\n",
    "        prefactor = e * e / (4 * cmath.pi * epsilon_0 * me * c * c)\n",
    "        #print(prefactor)\n",
    "        bi = prefactor * f1\n",
    "        self.scattering_length[element] = bi\n",
    "        return bi\n",
    "    \n",
    "    def cal_SLD(self, chem_formula, density):\n",
    "        \"\"\"\n",
    "        chem_formula is the chemical formula of the material. For example, \n",
    "        SrTiO3 will be [('sr', 1), ('ti', 1), ('o', 3)].\n",
    "        density (float) if the bulk density of the material, in the unit of g/cm^3. \n",
    "        The returned value is in the unit of Å^(-2).\n",
    "        Note that the parameter density should be varied to find the best fit. \n",
    "        \"\"\"\n",
    "        SLD = 0\n",
    "        Na = 6.02 * 10 ** 23\n",
    "        M = 0\n",
    "        b_total = 0\n",
    "        for elem in chem_formula:\n",
    "            M += self.atomic_mass_dict[elem[0]] * elem[1]\n",
    "            b_total += self.scattering_length[elem[0]] * elem[1]\n",
    "        #print(M)\n",
    "        SLD = density * Na * b_total / M * (10 ** (-14))  # convert the unit to Å^(-2)\n",
    "        return SLD\n",
    "    \n",
    "    def cal_refractive_index(self, chem_formula, density):\n",
    "        \"\"\"\n",
    "        calculate the refractive index for the input material. Here we ignore the absorption part beta_j.\n",
    "        \"\"\"\n",
    "        SLD = self.cal_SLD(chem_formula, density)\n",
    "        delta_j = ((self.xray_wavelength * 10 ** 10) ** 2) / (2 * cmath.pi) * SLD\n",
    "        N_j = 1 - delta_j\n",
    "        return N_j\n",
    "    \n",
    "    def cal_Q(self, theta, density):\n",
    "        \"\"\"\n",
    "        calculate Q_j according to the formula give in v2. \n",
    "        \n",
    "        density is a dict which corresponds to each layer's density (in the unit of g/cm^3): {1: 4.81, 2: 6.2}.\n",
    "        The returned value is a list of values of [Q_0, Q_1, Q_2, ... , Q_L], in the unit of Å^(-1).\n",
    "        \"\"\"\n",
    "        Q_vec = [0 for j in range(len(self.layer) + 1)]\n",
    "        Q0 = (4 * math.pi * math.sin(theta / 180 * math.pi)) / (self.xray_wavelength * 10 ** 10)\n",
    "        Q_vec[0] = Q0\n",
    "        for j in self.layer:\n",
    "            rho_j = self.cal_SLD(self.layer[j], density[j])\n",
    "            Q_j = math.sqrt((Q0 * Q0 - 16 * math.pi * rho_j))\n",
    "            Q_vec[j] = Q_j\n",
    "        return Q_vec \n",
    "    \n",
    "    def cal_reflec_Intensity_Parratt(self, theta, input_vec):\n",
    "        \"\"\"\n",
    "        calculate the reflection intensity for a given theta angle (in unit of °).\n",
    "        input_vec is the input vector that is used to calculate the simulated xrr intensity. For example, the input \n",
    "        vector can be input_vec = [2, 10 ** 6, 10, 4.8, 6.2, 150, float('inf'), 4, 1]. input_vec[0] is the number of \n",
    "        layers.\n",
    "        \"\"\"\n",
    "        # We split the input input_vec into the physical quantities.\n",
    "        num_layers = input_vec[0]\n",
    "        incident_I = input_vec[1]\n",
    "        backgr_I = input_vec[2]\n",
    "        density = {i:input_vec[i + 2] for i in range(1, num_layers + 1)}\n",
    "        thickness = {i:input_vec[i + 2 + num_layers] for i in range(1, num_layers + 1)}\n",
    "        roughness = {i:input_vec[i + 3 + 2 * num_layers] for i in range(num_layers)}\n",
    "        #print(density, thickness, roughness)\n",
    "    \n",
    "        Q_vec = self.cal_Q(theta, density)\n",
    "        r_vec = [0 for _ in range(len(Q_vec) - 1)] # r_vec[i] is the quantity r_{i, i + 1}. \n",
    "        for i in range(len(r_vec)):\n",
    "            r_vec[i] = (Q_vec[i] - Q_vec[i + 1]) / (Q_vec[i] + Q_vec[i + 1]) \\\n",
    "                        * math.exp(-2 * (Q_vec[i] / 2) * (Q_vec[i + 1] / 2) * roughness[i] ** 2)\n",
    "        # X_vec is the X vector. [X_0, X_1, ..., X_L]. Here X_L = 0, which is the bottom most layer. \n",
    "        X_vec = [0 for _ in range(len(Q_vec))]\n",
    "        phi_vec = [0 for _ in range(len(Q_vec))]\n",
    "        # Calculate the phase vector phi_vec = [\\phi_0, \\phi_1, ... , \\phi_L]. As the substrate's thickness is assumed \n",
    "        # to be infinite, so we don't calculate \\phi_L. We directly set \\phi_L = 0. Also, in the following loop, we don't\n",
    "        # update phi_vec[0], which means we leave phi_vec[0] = 0. \n",
    "        \n",
    "    \n",
    "        # We start from the bottom most layer, and compute upwards until we reach the first layer (layer 0). \n",
    "        for j in range(len(r_vec) - 1, -1, -1):\n",
    "            if j + 1 == num_layers:\n",
    "                phi_vec[j + 1] = 0\n",
    "            else:\n",
    "                phi_vec[j + 1] = cmath.exp(1j * Q_vec[j + 1] / 2 * thickness[j + 1])\n",
    "            X_vec[j] = (r_vec[j] + X_vec[j + 1] * (phi_vec[j + 1]) ** 2) \\\n",
    "                        / (1 + r_vec[j] * X_vec[j + 1] * (phi_vec[j + 1]) ** 2)\n",
    "        return incident_I * np.absolute(X_vec[0]) ** 2 + backgr_I\n",
    "    \n",
    "    def error_total(self, theta_measured, inten_measured, para_vec):\n",
    "        \"\"\"\n",
    "        calculate the total error for the simulated intensity and the measured data.\n",
    "        \"\"\"\n",
    "        n = len(theta_measured)\n",
    "        error = 0\n",
    "        for i in range(n):\n",
    "            calculated_intensity = self.cal_reflec_Intensity_Parratt(theta_measured[i], para_vec)\n",
    "            error += abs(math.log(inten_measured[i]) - math.log(calculated_intensity))\n",
    "        return error / (n - 1)"
   ]
  },
  {
   "cell_type": "markdown",
   "metadata": {},
   "source": [
    "We calculate the x-ray scattering lenght according to $\\displaystyle b_i = \\frac{e^2 }{4\\pi \\epsilon_0 m_e c^2} f_1 $. Refer to [this link](http://gisaxs.com/index.php/Scattering_Length_Density)."
   ]
  },
  {
   "cell_type": "markdown",
   "metadata": {},
   "source": [
    "We calculate the scattering length density using $\\displaystyle SLD = \\frac{\\sum_{i = 1}^N b_i}{V_m} $, where $\\displaystyle V_m = \\frac{M}{\\rho N_a}$. Here $ \\rho$ is the bulk density of the material, and $M$ is the molecular weight. $N_a$ is the Avogadro constant. Plug this in, we have $\\displaystyle SLD = \\frac{\\rho N_a \\sum_{i = 1}^N b_i}{\\sum_{i = 1}^N M_i} $, where $M_i$ is the atomic molar mass for each element.  Refer to [this link](http://gisaxs.com/index.php/Scattering_Length_Density)."
   ]
  },
  {
   "cell_type": "code",
   "execution_count": 16,
   "metadata": {},
   "outputs": [
    {
     "data": {
      "text/plain": [
       "3.7284583281700375e-05"
      ]
     },
     "execution_count": 16,
     "metadata": {},
     "output_type": "execute_result"
    }
   ],
   "source": [
    "SrTiO3 = [('sr', 1), ('ti', 1), ('o', 3)]; SrRuO3 = [('sr', 1), ('ru', 1), ('o', 3)]\n",
    "cal_SLD(SrTiO3, scattering_factor_dict, atomic_mass_dict, density= 4.81)  \n",
    "# Somehow the SLD calculated is one order of magnitude different compared with the value given in NIST."
   ]
  },
  {
   "cell_type": "markdown",
   "metadata": {},
   "source": [
    "Note that $N_j = 1 - \\delta_j + i \\beta_j$. We use $\\displaystyle \\delta_j = (\\lambda^2 / 2 \\pi ) \\rho_j$ to calculate the $\\delta_j$ in the refractive index $N_j$. Here $ \\rho_j$ is the scattering length density (SLD)."
   ]
  },
  {
   "cell_type": "markdown",
   "metadata": {},
   "source": [
    "We calculate $\\displaystyle Q_j = (Q^2 - 16 \\pi \\rho_j)^{1 / 2} $. Here $\\displaystyle Q = Q_0 = \\frac{4 \\pi \\sin \\theta_0}{\\lambda_0} $. Here $ \\rho_j$ is the scattering length density (SLD). $\\theta_0$ is the incident angle between the incident beam and the surface. "
   ]
  },
  {
   "cell_type": "code",
   "execution_count": 14,
   "metadata": {},
   "outputs": [],
   "source": [
    "\n",
    "density = {1: 4.81, 2: 6.2}"
   ]
  },
  {
   "cell_type": "markdown",
   "metadata": {},
   "source": [
    "We use the formula $\\displaystyle r = r_{0, 1} \\prod_j \\left[ 1 + f_j \\exp (-i Q_j d_j) \\right] $, where $\\displaystyle f_j = r_{j, \\, j + 1} / r_{j - 1, \\, j}$ to calculate the reflection term. This is Eqn. (10) in the paper Analysis of Neutron and X-ray Reflectivity Data. I. Theory. For the term $r_{j, \\, j + 1}$, we use $\\displaystyle r_{j, \\, j + 1} = \\frac{Q_j - Q_{j + 1}}{Q_j + Q_{j + 1}} $."
   ]
  },
  {
   "cell_type": "markdown",
   "metadata": {},
   "source": [
    "##### We next include the surface roughness into the calculation of the reflectivity. "
   ]
  },
  {
   "cell_type": "markdown",
   "metadata": {},
   "source": [
    "According to the tutorial note (X-Ray and Neutron Reflectivity for the Investigation of Thin Films – A Short Tutorial –), the roughness effect is taken into consideration through the Fresnel coefficient. We include a term $\\displaystyle e^{-2 k_{z, \\, j} k_{z, \\, j + 1} \\sigma^2_{j, \\, j + 1}} $ in the Fresnel coefficient. To be consistent with the definitions above, we include a term $\\displaystyle e^{-2 Q_{ j} Q_{ j + 1} \\sigma^2} $ in the Fresnel coefficient. "
   ]
  },
  {
   "cell_type": "markdown",
   "metadata": {},
   "source": [
    "#### Use the evolutionary algorithm to find the optimal parameters"
   ]
  },
  {
   "cell_type": "markdown",
   "metadata": {},
   "source": [
    "The meaning of the input parameters are as follows: <br>\n",
    "\\[number of layers, Incident intensity, background intensity, density of layer 1, dentsity of layer 2, thickness of layer 1, thickness of layer 2, roughness of interface between layer 0 and layer 1, roughtness of the interface between layer 1 and layer 2 \\]. For the substrate thickness, we use float('inf'). Note that actually we will not use the substrate thickness in the calculation. "
   ]
  },
  {
   "cell_type": "markdown",
   "metadata": {},
   "source": [
    "We use the Parratt's method. $\\displaystyle X_j = \\frac{r_j + X_{j + 1} \\phi_{j + 1}^2 }{1 + r_j X_{j + 1} \\phi_{j + 1}^2}$. Here $\\displaystyle r_j = \\frac{Q_j - Q_{j + 1}}{Q_j + Q_{j + 1}}$, which is the $\\displaystyle r_{j, \\, j + 1}$ term above. $\\displaystyle \\phi_j = \\exp(i k_{z, \\, j} t_j)$"
   ]
  },
  {
   "cell_type": "markdown",
   "metadata": {},
   "source": [
    "#### Create the model and xrrFit class."
   ]
  },
  {
   "cell_type": "code",
   "execution_count": 33,
   "metadata": {},
   "outputs": [],
   "source": [
    "layer = {1: [('sr', 1), ('ti', 1), ('o', 3)], 2: [('sr', 1), ('ru', 1), ('o', 3)]}\n",
    "input_vec = [2, 10 ** 6, 10, 4.8, 6.2, 150, float('inf'), 4, 1]"
   ]
  },
  {
   "cell_type": "code",
   "execution_count": 49,
   "metadata": {},
   "outputs": [
    {
     "data": {
      "text/plain": [
       "1.5375572674196538"
      ]
     },
     "execution_count": 49,
     "metadata": {},
     "output_type": "execute_result"
    }
   ],
   "source": [
    "xrrfit = xrrFit(scattering_factor_dict=scattering_factor_dict, atomic_mass_dict=atomic_mass_dict, layer=layer)\n",
    "for each_l, chem_formu in layer.items():\n",
    "    for elem in chem_formu:\n",
    "        xrrfit.get_scattering_factor(elem[0], scattering_factor_dict[elem[0]])\n",
    "        xrrfit.cal_scattering_length(elem[0], scattering_factor_dict[elem[0]])\n",
    "xrrfit.error_total(theta_measured_cutoff, inten_measured_cutoff, input_vec)"
   ]
  },
  {
   "cell_type": "markdown",
   "metadata": {},
   "source": [
    "##### generate inital M parameter vectors. "
   ]
  },
  {
   "cell_type": "code",
   "execution_count": 50,
   "metadata": {},
   "outputs": [],
   "source": [
    "num_para = len(input_vec)\n",
    "M = 10 * num_para\n",
    "initial_rou_SrTiO3 = 4.8\n",
    "initial_rou_SrRuO3 = 6.2\n",
    "thickness_range = [100, 200]\n",
    "rand_input_vec = [[input_vec[0], 0], [10**5, 9 * 10**5], [1, 99], [initial_rou_SrTiO3 / 2, initial_rou_SrTiO3], \\\n",
    "                 [initial_rou_SrRuO3 / 2, initial_rou_SrRuO3], thickness_range, [float('inf'), float('inf')], \\\n",
    "                  [1, 9], [0, 2]]"
   ]
  },
  {
   "cell_type": "code",
   "execution_count": 51,
   "metadata": {},
   "outputs": [],
   "source": [
    "initial_M_para_vec = []\n",
    "for i in range(M):\n",
    "    temp = [input_vec[0]]\n",
    "    for j in range(1, len(input_vec)):\n",
    "        temp.append(rand_input_vec[j][0] + np.random.uniform() * rand_input_vec[j][1])\n",
    "    initial_M_para_vec.append(temp)\n",
    "initial_M_para_vec[0] = input_vec"
   ]
  },
  {
   "cell_type": "markdown",
   "metadata": {},
   "source": [
    "#### Define the error funtion. We use $\\displaystyle E(p) = \\frac{1}{N - 1} \\sum_{i = 1}^{N} | \\log I_j - \\log I(\\theta_j; \\, p) |$"
   ]
  },
  {
   "cell_type": "code",
   "execution_count": 48,
   "metadata": {},
   "outputs": [],
   "source": [
    "# Read the measured xrr data.\n",
    "data_measured = pd.read_csv(\"ZW720A_10nmSrTiO3_Si_420C_xrr.csv\", skiprows= 33, header = None)\n",
    "data_measured.columns = ['2Theta', 'Intensity']\n",
    "theta_measured = data_measured['2Theta'].values / 2\n",
    "inten_measured = data_measured['Intensity'].values\n",
    "# We don't use the theta_measured data that is smaller than 0.4. \n",
    "theta_measured_cutoff = theta_measured[theta_measured > 0.5]\n",
    "inten_measured_cutoff = inten_measured[theta_measured > 0.5]"
   ]
  },
  {
   "cell_type": "markdown",
   "metadata": {},
   "source": [
    "#### We use the differential evolutionary algorithm to find the best fit. "
   ]
  },
  {
   "cell_type": "code",
   "execution_count": 52,
   "metadata": {},
   "outputs": [],
   "source": [
    "num_iteration = 1000\n",
    "best_para_vec = np.array\n",
    "mutation_const = 0.7\n",
    "cur_best_error = float('inf')\n",
    "#initialize the best parameter vector\n",
    "error_each_para = [0 for _ in range(M)]\n",
    "for i in range(M):\n",
    "    cur = xrrfit.error_total(theta_measured_cutoff, inten_measured_cutoff, initial_M_para_vec[i])\n",
    "    error_each_para[i] = cur\n",
    "    if cur < cur_best_error:\n",
    "        idx = i\n",
    "        cur_best_error = cur\n",
    "best_para_vec = initial_M_para_vec[i]\n",
    "for i in range(num_iteration):\n",
    "    for j in range(M):\n",
    "        a = np.random.randint(M)\n",
    "        while True:\n",
    "            b = np.random.randint(M)\n",
    "            if b != a:\n",
    "                break\n",
    "        b_vec_prime = \n",
    "    \n",
    "    \n",
    "    "
   ]
  },
  {
   "cell_type": "code",
   "execution_count": 76,
   "metadata": {},
   "outputs": [],
   "source": [
    "best_para_vec = np.array"
   ]
  },
  {
   "cell_type": "code",
   "execution_count": 79,
   "metadata": {},
   "outputs": [
    {
     "ename": "AttributeError",
     "evalue": "'builtin_function_or_method' object has no attribute 'shape'",
     "output_type": "error",
     "traceback": [
      "\u001b[0;31m---------------------------------------------------------------------------\u001b[0m",
      "\u001b[0;31mAttributeError\u001b[0m                            Traceback (most recent call last)",
      "\u001b[0;32m<ipython-input-79-d2b390ecc533>\u001b[0m in \u001b[0;36m<module>\u001b[0;34m\u001b[0m\n\u001b[0;32m----> 1\u001b[0;31m \u001b[0mbest_para_vec\u001b[0m\u001b[0;34m.\u001b[0m\u001b[0mshape\u001b[0m\u001b[0;34m\u001b[0m\u001b[0m\n\u001b[0m",
      "\u001b[0;31mAttributeError\u001b[0m: 'builtin_function_or_method' object has no attribute 'shape'"
     ]
    }
   ],
   "source": [
    "best_para_vec.shape"
   ]
  },
  {
   "cell_type": "markdown",
   "metadata": {},
   "source": [
    "##### Try to plot the reflection intensity as a function of the indident angle theta. "
   ]
  },
  {
   "cell_type": "code",
   "execution_count": 62,
   "metadata": {},
   "outputs": [],
   "source": [
    "theta = np.linspace(0.4, 2, num= 1000)"
   ]
  },
  {
   "cell_type": "code",
   "execution_count": 61,
   "metadata": {},
   "outputs": [],
   "source": [
    "thickness = 200 # thickness is in the unit of Å"
   ]
  },
  {
   "cell_type": "code",
   "execution_count": 64,
   "metadata": {},
   "outputs": [],
   "source": [
    "reflec_Intensity = [0 for _ in range(len(theta))]\n",
    "for i in range(len(theta)):\n",
    "    reflec_Intensity[i] = cal_reflec_Intensity(theta[i], scattering_factor_dict, atomic_mass_dict, \\\n",
    "                                               layer, thickness, density)"
   ]
  },
  {
   "cell_type": "code",
   "execution_count": 65,
   "metadata": {},
   "outputs": [
    {
     "data": {
      "image/png": "[encoded data removed]",
      "text/plain": [
       "<Figure size 720x504 with 1 Axes>"
      ]
     },
     "metadata": {
      "needs_background": "light"
     },
     "output_type": "display_data"
    }
   ],
   "source": [
    "import matplotlib.pyplot as plt\n",
    "from matplotlib.pyplot import figure\n",
    "figure(figsize=(10,7))\n",
    "plt.semilogy(theta, reflec_Intensity)\n",
    "plt.xlabel(r'$\\theta \\, (°) $', fontsize = 32, family = 'Arial')\n",
    "plt.ylabel('Intensity (arb. unit)', fontsize = 32, family = 'Arial')\n",
    "plt.tick_params(labelsize = 20)"
   ]
  },
  {
   "cell_type": "code",
   "execution_count": 55,
   "metadata": {},
   "outputs": [],
   "source": [
    "# Read the measured xrr data.\n",
    "data_measured = pd.read_csv(\"ZW720A_10nmSrTiO3_Si_420C_xrr.csv\", skiprows= 33, header = None)\n",
    "data_measured.columns = ['2Theta', 'Intensity']"
   ]
  },
  {
   "cell_type": "code",
   "execution_count": 58,
   "metadata": {},
   "outputs": [
    {
     "ename": "NameError",
     "evalue": "name 'figure' is not defined",
     "output_type": "error",
     "traceback": [
      "\u001b[0;31m---------------------------------------------------------------------------\u001b[0m",
      "\u001b[0;31mNameError\u001b[0m                                 Traceback (most recent call last)",
      "\u001b[0;32m<ipython-input-58-faa467d0b21f>\u001b[0m in \u001b[0;36m<module>\u001b[0;34m\u001b[0m\n\u001b[0;32m----> 1\u001b[0;31m \u001b[0mfigure\u001b[0m\u001b[0;34m(\u001b[0m\u001b[0mfigsize\u001b[0m\u001b[0;34m=\u001b[0m\u001b[0;34m(\u001b[0m\u001b[0;36m10\u001b[0m\u001b[0;34m,\u001b[0m\u001b[0;36m7\u001b[0m\u001b[0;34m)\u001b[0m\u001b[0;34m)\u001b[0m\u001b[0;34m\u001b[0m\u001b[0m\n\u001b[0m\u001b[1;32m      2\u001b[0m \u001b[0mtheta_measured\u001b[0m \u001b[0;34m=\u001b[0m \u001b[0mdata_measured\u001b[0m\u001b[0;34m[\u001b[0m\u001b[0;34m'2Theta'\u001b[0m\u001b[0;34m]\u001b[0m\u001b[0;34m.\u001b[0m\u001b[0mvalues\u001b[0m \u001b[0;34m/\u001b[0m \u001b[0;36m2\u001b[0m\u001b[0;34m\u001b[0m\u001b[0m\n\u001b[1;32m      3\u001b[0m \u001b[0minten_measured\u001b[0m \u001b[0;34m=\u001b[0m \u001b[0mdata_measured\u001b[0m\u001b[0;34m[\u001b[0m\u001b[0;34m'Intensity'\u001b[0m\u001b[0;34m]\u001b[0m\u001b[0;34m.\u001b[0m\u001b[0mvalues\u001b[0m\u001b[0;34m\u001b[0m\u001b[0m\n\u001b[1;32m      4\u001b[0m \u001b[0mplt\u001b[0m\u001b[0;34m.\u001b[0m\u001b[0msemilogy\u001b[0m\u001b[0;34m(\u001b[0m\u001b[0mtheta_measured\u001b[0m\u001b[0;34m,\u001b[0m \u001b[0minten_measured\u001b[0m\u001b[0;34m,\u001b[0m \u001b[0mtheta\u001b[0m\u001b[0;34m,\u001b[0m \u001b[0mreflec_Intensity\u001b[0m\u001b[0;34m)\u001b[0m\u001b[0;34m\u001b[0m\u001b[0m\n\u001b[1;32m      5\u001b[0m \u001b[0mplt\u001b[0m\u001b[0;34m.\u001b[0m\u001b[0mxlabel\u001b[0m\u001b[0;34m(\u001b[0m\u001b[0;34mr'$\\theta \\, (°) $'\u001b[0m\u001b[0;34m,\u001b[0m \u001b[0mfontsize\u001b[0m \u001b[0;34m=\u001b[0m \u001b[0;36m32\u001b[0m\u001b[0;34m,\u001b[0m \u001b[0mfamily\u001b[0m \u001b[0;34m=\u001b[0m \u001b[0;34m'Arial'\u001b[0m\u001b[0;34m)\u001b[0m\u001b[0;34m\u001b[0m\u001b[0m\n",
      "\u001b[0;31mNameError\u001b[0m: name 'figure' is not defined"
     ]
    }
   ],
   "source": [
    "figure(figsize=(10,7))\n",
    "theta_measured = data_measured['2Theta'].values / 2\n",
    "inten_measured = data_measured['Intensity'].values\n",
    "plt.semilogy(theta_measured, inten_measured, theta, reflec_Intensity)\n",
    "plt.xlabel(r'$\\theta \\, (°) $', fontsize = 32, family = 'Arial')\n",
    "plt.ylabel('Intensity (arb. unit)', fontsize = 32, family = 'Arial')\n",
    "plt.tick_params(labelsize = 20)"
   ]
  },
  {
   "cell_type": "markdown",
   "metadata": {},
   "source": [
    "##### Plot both the simulated XRR curve and the measured curve, without taking the surface roughness into consideration."
   ]
  },
  {
   "cell_type": "code",
   "execution_count": 91,
   "metadata": {},
   "outputs": [],
   "source": [
    "# We don't use the theta_measured data that is smaller than 0.4. \n",
    "theta_measured_cutoff = theta_measured[theta_measured > 0.4]\n",
    "inten_measured_cutoff = inten_measured[theta_measured > 0.4]"
   ]
  },
  {
   "cell_type": "code",
   "execution_count": 92,
   "metadata": {},
   "outputs": [
    {
     "data": {
      "text/plain": [
       "array([ 0.40025,  0.40175,  0.40325, ...,  3.49625,  3.49775,  3.49925])"
      ]
     },
     "execution_count": 92,
     "metadata": {},
     "output_type": "execute_result"
    }
   ],
   "source": [
    "theta_measured_cutoff"
   ]
  },
  {
   "cell_type": "code",
   "execution_count": 125,
   "metadata": {},
   "outputs": [],
   "source": [
    "roughness = {0: 3.5, 1: 1}\n",
    "layer = {1: [[('sr', 1), ('ti', 1), ('o', 3)], 4.81], 2: [[('si', 1)], 2.32]}\n",
    "reflec_inten_simu = [cal_reflec_Intensity(theta_measured_cutoff[i], scattering_factor_dict, atomic_mass_dict, \\\n",
    "                                          layer, thickness = 92, roughness = roughness) for i in range(len(theta_measured_cutoff))]\n",
    "reflec_inten_simu = np.array(reflec_inten_simu)"
   ]
  },
  {
   "cell_type": "code",
   "execution_count": 126,
   "metadata": {},
   "outputs": [],
   "source": [
    "reflec_inten_simu_scaled = reflec_inten_simu * (inten_measured_cutoff[0] / reflec_inten_simu[0])\n",
    "#reflec_inten_simu_scaled = reflec_inten_simu"
   ]
  },
  {
   "cell_type": "code",
   "execution_count": 127,
   "metadata": {},
   "outputs": [
    {
     "data": {
      "image/png": "[encoded data removed]",
      "text/plain": [
       "<Figure size 500x350 with 1 Axes>"
      ]
     },
     "metadata": {
      "needs_background": "light"
     },
     "output_type": "display_data"
    }
   ],
   "source": [
    "import matplotlib.pyplot as plt\n",
    "from matplotlib.pyplot import figure\n",
    "figure(figsize=(10,7), dpi = 50)\n",
    "plt.semilogy(theta_measured_cutoff, reflec_inten_simu_scaled, theta_measured_cutoff, inten_measured_cutoff)\n",
    "plt.xlabel(r'$\\theta \\, (°) $', fontsize = 32, family = 'Arial')\n",
    "plt.ylabel('Intensity (arb. unit)', fontsize = 32, family = 'Arial')\n",
    "plt.tick_params(labelsize = 20)"
   ]
  },
  {
   "cell_type": "markdown",
   "metadata": {},
   "source": [
    "##### We next include the surface roughness into the calculation of the reflectivity. "
   ]
  },
  {
   "cell_type": "markdown",
   "metadata": {},
   "source": [
    "We compare the different reflectivity intensity corresponding to different film roughness. "
   ]
  },
  {
   "cell_type": "code",
   "execution_count": 64,
   "metadata": {},
   "outputs": [],
   "source": [
    "roughness = [1, 2, 3, 4] # Suppose we have a list of different roughness. The unit of roughness is Å. "
   ]
  },
  {
   "cell_type": "code",
   "execution_count": 68,
   "metadata": {},
   "outputs": [
    {
     "data": {
      "text/plain": [
       "<matplotlib.legend.Legend at 0x117366358>"
      ]
     },
     "execution_count": 68,
     "metadata": {},
     "output_type": "execute_result"
    },
    {
     "data": {
      "image/png": "[encoded data removed]",
      "text/plain": [
       "<Figure size 600x420 with 1 Axes>"
      ]
     },
     "metadata": {
      "needs_background": "light"
     },
     "output_type": "display_data"
    }
   ],
   "source": [
    "figure(figsize=(10,7), dpi = 60)\n",
    "for k in range(len(roughness)):\n",
    "    temp = [0 for _ in range(len(theta))]\n",
    "    for i in range(len(theta)):\n",
    "        temp[i] = cal_reflec_Intensity(theta[i], scattering_factor_dict, atomic_mass_dict, layer, thickness, \\\n",
    "                                      roughness = roughness[k])\n",
    "    temp = np.array(temp)\n",
    "    plt.semilogy(theta, temp)\n",
    "plt.xlabel(r'$\\theta \\, (°) $', fontsize = 32, family = 'Arial')\n",
    "plt.ylabel('Intensity (arb. unit)', fontsize = 32, family = 'Arial')\n",
    "plt.tick_params(labelsize = 20)\n",
    "plt.legend(('roughness 1 Å', 'roughness 2 Å', 'roughness 3 Å', 'roughness 4 Å'),\n",
    "           loc='upper right', fontsize = 15)"
   ]
  },
  {
   "cell_type": "code",
   "execution_count": null,
   "metadata": {},
   "outputs": [],
   "source": []
  }
 ],
 "metadata": {
  "kernelspec": {
   "display_name": "Python 3",
   "language": "python",
   "name": "python3"
  },
  "language_info": {
   "codemirror_mode": {
    "name": "ipython",
    "version": 3
   },
   "file_extension": ".py",
   "mimetype": "text/x-python",
   "name": "python",
   "nbconvert_exporter": "python",
   "pygments_lexer": "ipython3",
   "version": "3.6.0"
  }
 },
 "nbformat": 4,
 "nbformat_minor": 2
}
